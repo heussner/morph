{
 "cells": [
  {
   "cell_type": "code",
   "execution_count": 18,
   "id": "4b448e98-c3ac-4d71-9c17-5e1e179177f5",
   "metadata": {
    "tags": []
   },
   "outputs": [],
   "source": [
    "import os\n",
    "import math\n",
    "import numpy as np\n",
    "import pandas as pd\n",
    "from tqdm import tqdm\n",
    "from tifffile import imread, imwrite\n",
    "import matplotlib.pyplot as plt\n",
    "from skimage.transform import rotate\n",
    "from skimage.morphology import disk, binary_opening, binary_dilation, label\n",
    "from skimage.filters import threshold_otsu\n",
    "from skimage.measure import centroid\n",
    "from skimage.measure import regionprops, regionprops_table\n",
    "import pickle\n",
    "\n",
    "def tileOnCentroid(image, segmentation, labels, centroidX, centroidY, orientations, tileSize, polarity=True):\n",
    "    \"\"\"\n",
    "    Cell-centered tiles of tileSize\n",
    "    \"\"\"\n",
    "    tiles = {}\n",
    "    tileWidth = int(tileSize/2)\n",
    "    paddedImage = np.pad(image_,pad_width=[(tileWidth,tileWidth),(tileWidth,tileWidth)])\n",
    "    paddedSeg = np.pad(segmentation,pad_width=[(tileWidth,tileWidth),(tileWidth,tileWidth)])\n",
    "    for iX, iY, iLabel, iO in zip(centroidX,centroidY,labels, orientations):\n",
    "        nX = int(iX) + tileWidth\n",
    "        nY = int(iY) + tileWidth       \n",
    "        iTile = paddedImage[nX-tileWidth:nX+tileWidth, nY-tileWidth:nY+tileWidth].copy()\n",
    "        iSeg = paddedSeg[nX-tileWidth:nX+tileWidth, nY-tileWidth:nY+tileWidth].copy()\n",
    "        if checkEdge(nX, nY, image_.shape, tileWidth)  == True:\n",
    "            iTile[iSeg!=iLabel] = 0\n",
    "            if np.sum(iTile) == 0:\n",
    "                iTile[int(tileWidth/2),int(tileWidth/2)] = 1\n",
    "            newTile = alignPolarityChannel(iTile.copy(),0)\n",
    "            newTile /= (np.sum(newTile) + 1e-10) # divide pixel intensities by sum of pixel intensities\n",
    "            tiles[iLabel] = newTile\n",
    "    return tiles \n",
    "\n",
    "\n",
    "def alignPolarityChannel(image, threshold):\n",
    "    \"\"\"\n",
    "    Aligns polarity of image (max projection)\n",
    "    \"\"\"\n",
    "    imageProjection = image.copy()\n",
    "    mask = imageProjection.copy()\n",
    "    mask[mask>threshold] = 1\n",
    "    angle = regionprops(mask)[0]['orientation']\n",
    "    rotatedImage = rotate(image.copy(), -angle/2/3.14*360, resize=False, preserve_range=True)\n",
    "    if np.sum(imageProjection[:,0:int(image.shape[1]/2)]) < np.sum(imageProjection[:,int(image.shape[1]/2):-1]):\n",
    "        rotatedImage = np.flip(rotatedImage, axis=1)\n",
    "    if np.sum(imageProjection[0:int(image.shape[1]/2),:]) < np.sum(imageProjection[int(image.shape[1]/2):-1,:]):\n",
    "        rotatedImage = np.flip(rotatedImage, axis=0)\n",
    "    return rotatedImage\n",
    "\n",
    "def checkEdge(xCoord, yCoord, imageSize, tileWidth):\n",
    "    \"\"\"\n",
    "    Check if the tile is overlapping the edge\n",
    "    \"\"\"\n",
    "    xMin, xMax = (0, imageSize[0])\n",
    "    yMin, yMax = (0, imageSize[1])\n",
    "    if (xCoord - tileWidth <= tileWidth) | ((xCoord + tileWidth) > xMax + tileWidth):\n",
    "        return False\n",
    "    elif (yCoord - tileWidth <= tileWidth) | ((yCoord + tileWidth) > yMax + tileWidth):\n",
    "        return False\n",
    "    else:\n",
    "        return True\n",
    "    \n",
    "def getCentroids(segmentationMask):\n",
    "    \"\"\"\n",
    "    Return centroids of cells in segmentation mask\n",
    "    \"\"\"\n",
    "    rps = pd.DataFrame(regionprops_table(segmentationMask.astype(np.uint64),properties=['label','centroid','orientation']))\n",
    "    return (list(rps['label']),list(rps['centroid-0']),list(rps['centroid-1']), list(rps['orientation']))\n",
    "\n",
    "parentPath = '/project/zunderlab/heussner/Projects/morph'"
   ]
  },
  {
   "cell_type": "code",
   "execution_count": 16,
   "id": "79426477-ee17-4b26-a5ce-99aa01cfa960",
   "metadata": {
    "tags": []
   },
   "outputs": [],
   "source": [
    "markers = ['DAPI','CD8','CD3','CD20','Ki67','CD68','PanCK','CD21','CD4','CD31','CD45RO','CD11c','HLA-DR']"
   ]
  },
  {
   "cell_type": "code",
   "execution_count": 8,
   "id": "3c111a1b-f4c7-47af-8215-6f00a3624bd1",
   "metadata": {
    "tags": []
   },
   "outputs": [],
   "source": [
    "image = imread(os.path.join(parentPath,'data/CODEX_LN/CODEX_LN_image.tif'))"
   ]
  },
  {
   "cell_type": "code",
   "execution_count": 9,
   "id": "8af9c460-92ab-448f-aa33-62c828b66848",
   "metadata": {
    "tags": []
   },
   "outputs": [],
   "source": [
    "segmentation = imread(os.path.join(parentPath,'data/CODEX_LN/CODEX_LN_mask.tif'))\n",
    "labels, centroidX, centroidY, orientations = getCentroids(segmentation)"
   ]
  },
  {
   "cell_type": "code",
   "execution_count": 19,
   "id": "3ae14e93-257b-4aca-8de7-571e54dc3437",
   "metadata": {
    "tags": []
   },
   "outputs": [],
   "source": [
    "for i in range(len(markers)):\n",
    "    image_ = image[i+2,:,:].copy()\n",
    "    tiles = tileOnCentroid(image_, segmentation, labels, centroidX, centroidY, orientations, 32, polarity=True)\n",
    "    with open(os.path.join(parentPath,'data/CODEX_LN/CODEX_LN_tiles/',f'{markers[i]}.pkl'),'wb') as handle:\n",
    "        pickle.dump(tiles,handle)"
   ]
  },
  {
   "cell_type": "code",
   "execution_count": 62,
   "id": "cd784072-044b-49bc-b5a2-727e591e633a",
   "metadata": {
    "tags": []
   },
   "outputs": [
    {
     "name": "stderr",
     "output_type": "stream",
     "text": [
      "100%|██████████| 1/1 [00:32<00:00, 32.60s/it]\n"
     ]
    }
   ],
   "source": [
    "names = imageTiles.keys()\n",
    "saveDir = os.path.join(parentPath,'data/CODEX_LN/CODEX_LN_tiles/')\n",
    "for iName in tqdm(names):\n",
    "    trajectorySaveDir = os.path.join(saveDir,iName)\n",
    "    with open(os.path.join(trajectorySaveDir,f'{iName}.pkl'),'wb') as handle:\n",
    "        pickle.dump(imageTiles[iName],handle)"
   ]
  }
 ],
 "metadata": {
  "kernelspec": {
   "display_name": "steinbock2",
   "language": "python",
   "name": "steinbock2"
  },
  "language_info": {
   "codemirror_mode": {
    "name": "ipython",
    "version": 3
   },
   "file_extension": ".py",
   "mimetype": "text/x-python",
   "name": "python",
   "nbconvert_exporter": "python",
   "pygments_lexer": "ipython3",
   "version": "3.8.19"
  }
 },
 "nbformat": 4,
 "nbformat_minor": 5
}
