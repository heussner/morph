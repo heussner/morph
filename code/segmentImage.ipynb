{
 "cells": [
  {
   "cell_type": "code",
   "execution_count": 20,
   "id": "69309252-4a45-4ced-9a63-2fc2687bab9e",
   "metadata": {
    "tags": []
   },
   "outputs": [],
   "source": [
    "import os\n",
    "import numpy as np\n",
    "from matplotlib import pyplot as plt\n",
    "from tifffile import imread, imwrite\n",
    "from deepcell.applications import Mesmer"
   ]
  },
  {
   "cell_type": "code",
   "execution_count": 3,
   "id": "f5bd31ab-a41b-4bc3-9423-9cfd9737a23c",
   "metadata": {
    "tags": []
   },
   "outputs": [],
   "source": [
    "path = '/project/zunderlab/heussner/Projects/morph/data/CODEX_LN/CODEX_LN.tif'\n",
    "image = imread(path)\n",
    "\n",
    "channels = [0,5,6,7,9,10,11,13,14,15,17,18,22]\n",
    "markers = ['DAPI','CD8','CD3','CD20','Ki67','CD68','PanCK','CD21','CD4','CD31','CD45RO','CD11c','HLA-DR']"
   ]
  },
  {
   "cell_type": "code",
   "execution_count": 6,
   "id": "d08e8fe1-0d7a-4917-8a57-2a5ea48a26f6",
   "metadata": {
    "tags": []
   },
   "outputs": [],
   "source": [
    "image = image.reshape((28,5040,6720))"
   ]
  },
  {
   "cell_type": "code",
   "execution_count": 14,
   "id": "02a3c0b8-ee6f-43e0-8acb-97c8416c82a8",
   "metadata": {
    "tags": []
   },
   "outputs": [],
   "source": [
    "image = image[channels,:,:]"
   ]
  },
  {
   "cell_type": "code",
   "execution_count": 16,
   "id": "d9f9b0d7-a812-409c-a096-c28cd9129a45",
   "metadata": {
    "tags": []
   },
   "outputs": [],
   "source": [
    "nucleus = np.expand_dims(image[0,:,:].copy(),0)\n",
    "cell = np.expand_dims(np.mean(image[1:,:,:],axis=0),0)"
   ]
  },
  {
   "cell_type": "code",
   "execution_count": 29,
   "id": "0cefd3d9-a04b-4421-b817-c61834f5d87d",
   "metadata": {
    "tags": []
   },
   "outputs": [],
   "source": [
    "X = np.expand_dims(np.moveaxis(np.concatenate([nucleus, cell],axis=0),0,2),0)"
   ]
  },
  {
   "cell_type": "code",
   "execution_count": 30,
   "id": "9de36b3d-a281-48b7-8c2a-cf9a060013f8",
   "metadata": {
    "tags": []
   },
   "outputs": [
    {
     "data": {
      "text/plain": [
       "(1, 5040, 6720, 2)"
      ]
     },
     "execution_count": 30,
     "metadata": {},
     "output_type": "execute_result"
    }
   ],
   "source": [
    "X.shape"
   ]
  },
  {
   "cell_type": "code",
   "execution_count": null,
   "id": "b124db39-73c4-4206-97a6-4fd250f4e135",
   "metadata": {
    "tags": []
   },
   "outputs": [],
   "source": [
    "model = Mesmer()\n",
    "mask = model.predict(X, compartment='whole-cell')"
   ]
  },
  {
   "cell_type": "code",
   "execution_count": 33,
   "id": "4136d910-b2ca-4b6d-8c01-9065929ec115",
   "metadata": {
    "tags": []
   },
   "outputs": [],
   "source": [
    "mask = np.squeeze(mask)"
   ]
  },
  {
   "cell_type": "code",
   "execution_count": null,
   "id": "8696381d-ebc2-469e-a5ed-92fd67ce7eeb",
   "metadata": {
    "tags": []
   },
   "outputs": [],
   "source": [
    "imwrite('CODEX_LN_mask.tif',mask)"
   ]
  },
  {
   "cell_type": "code",
   "execution_count": 41,
   "id": "4e96f9f3-36b4-41fa-afb5-1feb6bb38c7b",
   "metadata": {
    "tags": []
   },
   "outputs": [],
   "source": [
    "imwrite('CODEX_LN_image.tif',image)"
   ]
  },
  {
   "cell_type": "code",
   "execution_count": null,
   "id": "c2cee504-1d25-41ca-8822-2766e6000494",
   "metadata": {},
   "outputs": [],
   "source": []
  }
 ],
 "metadata": {
  "kernelspec": {
   "display_name": "steinbock2",
   "language": "python",
   "name": "steinbock2"
  },
  "language_info": {
   "codemirror_mode": {
    "name": "ipython",
    "version": 3
   },
   "file_extension": ".py",
   "mimetype": "text/x-python",
   "name": "python",
   "nbconvert_exporter": "python",
   "pygments_lexer": "ipython3",
   "version": "3.8.19"
  }
 },
 "nbformat": 4,
 "nbformat_minor": 5
}
